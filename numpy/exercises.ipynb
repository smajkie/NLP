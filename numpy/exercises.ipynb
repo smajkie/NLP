{
 "cells": [
  {
   "cell_type": "markdown",
   "metadata": {},
   "source": [
    "### 1. Tworzenie i modyfikowanie tablic\n",
    "- **Pytanie:** Jak utworzyć tablicę NumPy zawierającą liczby od 0 do 9?\n",
    "    - Ćwiczenie: Utwórz jednowymiarową tablicę o wartości od 0 do 9.\n",
    "\n",
    "- **Pytanie:** Jak utworzyć macierz 3x3 wypełnioną zerami?\n",
    "    - Ćwiczenie: Stwórz macierz 3x3 wypełnioną zerami oraz macierz 4x4 wypełnioną jedynkami.\n",
    "\n",
    "- **Pytanie:** Jak stworzyć tablicę NumPy o wymiarach 2x5 wypełnioną losowymi wartościami z przedziału [0, 1]?\n",
    "    - Ćwiczenie: Stwórz tablicę o wymiarach 2x5 wypełnioną losowymi wartościami.\n",
    "\n",
    "### 2. Operacje na tablicach\n",
    "- **Pytanie:** Jak dodać do siebie dwie tablice NumPy o takich samych wymiarach?\n",
    "    - Ćwiczenie: Utwórz dwie tablice NumPy o wymiarach 2x2 i dodaj je do siebie.\n",
    "\n",
    "- **Pytanie:** Jak przemnożyć elementy dwóch tablic o takich samych wymiarach?\n",
    "    - Ćwiczenie: Utwórz dwie tablice 3x3 i wykonaj ich elementowe mnożenie.\n",
    "\n",
    "- **Pytanie:** Jak znaleźć sumę elementów tablicy NumPy?\n",
    "    - Ćwiczenie: Stwórz dowolną tablicę i oblicz sumę jej wszystkich elementów oraz sumy wzdłuż wybranych osi.\n",
    "\n",
    "### 3. Indeksowanie i selekcja\n",
    "- **Pytanie:** Jak wybrać podzbiór elementów z tablicy NumPy za pomocą warunków logicznych?\n",
    "    - Ćwiczenie: Utwórz tablicę losowych liczb całkowitych i wybierz z niej tylko liczby większe od 5.\n",
    "\n",
    "- **Pytanie:** Jak zmienić kształt (reshape) tablicy NumPy?\n",
    "    - Ćwiczenie: Utwórz tablicę o wymiarach 1x9 i przekształć ją w macierz o wymiarach 3x3.\n",
    "\n",
    "- **Pytanie:** Jak znaleźć indeksy elementów spełniających określony warunek?\n",
    "    - Ćwiczenie: Utwórz tablicę liczb losowych i znajdź indeksy wszystkich elementów większych od 0.5.\n",
    "\n",
    "### 4. Operacje statystyczne\n",
    "- **Pytanie:** Jak obliczyć średnią, medianę, wariancję i odchylenie standardowe tablicy NumPy?\n",
    "    - Ćwiczenie: Utwórz tablicę 5x5 z losowymi wartościami i oblicz powyższe statystyki.\n",
    "\n",
    "- **Pytanie:** Jak znaleźć wartość minimalną i maksymalną w tablicy NumPy?\n",
    "    - Ćwiczenie: Stwórz tablicę losowych liczb całkowitych i znajdź w niej wartości minimalne i maksymalne, a także ich indeksy.\n",
    "\n",
    "### 5. Złożone operacje\n",
    "- **Pytanie:** Jak wykonać operację transpozycji macierzy w NumPy?\n",
    "    - Ćwiczenie: Stwórz macierz 4x4, a następnie przetransponuj ją.\n",
    "\n",
    "- **Pytanie:** Jak wykonać mnożenie macierzy?\n",
    "    - Ćwiczenie: Stwórz dwie macierze 3x3 i wykonaj ich mnożenie macierzowe (nie elementowe).\n",
    "\n",
    "- **Pytanie:** Jak połączyć (concatenate) dwie tablice NumPy wzdłuż określonej osi?\n",
    "    - Ćwiczenie: Utwórz dwie tablice o wymiarach 2x3 i połącz je wzdłuż osi 0 oraz wzdłuż osi 1.\n",
    "\n",
    "### 6. Zapis i odczyt danych\n",
    "- **Pytanie:** Jak zapisać i odczytać tablicę NumPy do/z pliku?\n",
    "    - Ćwiczenie: Zapisz dowolną tablicę do pliku tekstowego (np. CSV) oraz odczytaj ją z powrotem do tablicy NumPy.\n",
    "\n",
    "Te pytania i ćwiczenia pomogą Ci odświeżyć i wzmocnić podstawowe umiejętności pracy z biblioteką `NumPy`."
   ]
  },
  {
   "cell_type": "markdown",
   "metadata": {},
   "source": []
  }
 ],
 "metadata": {
  "kernelspec": {
   "display_name": "Python 3",
   "language": "python",
   "name": "python3"
  },
  "language_info": {
   "codemirror_mode": {
    "name": "ipython",
    "version": 3
   },
   "file_extension": ".py",
   "mimetype": "text/x-python",
   "name": "python",
   "nbconvert_exporter": "python",
   "pygments_lexer": "ipython3",
   "version": "3.12.2"
  }
 },
 "nbformat": 4,
 "nbformat_minor": 2
}
