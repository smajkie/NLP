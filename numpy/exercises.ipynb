{
 "cells": [
  {
   "cell_type": "markdown",
   "metadata": {},
   "source": [
    "Pytanie"
   ]
  },
  {
   "cell_type": "code",
   "execution_count": 4,
   "metadata": {
    "tags": [
     "parameters"
    ]
   },
   "outputs": [
    {
     "data": {
      "application/vnd.jupyter.widget-view+json": {
       "model_id": "7d0a0e51a45d45358a7bc9a029bc6eb2",
       "version_major": 2,
       "version_minor": 0
      },
      "text/plain": [
       "Button(description='Pokaż odpowiedź', style=ButtonStyle())"
      ]
     },
     "metadata": {},
     "output_type": "display_data"
    },
    {
     "data": {
      "application/vnd.jupyter.widget-view+json": {
       "model_id": "962902f762ba488e98c8e6332d430d00",
       "version_major": 2,
       "version_minor": 0
      },
      "text/plain": [
       "Output()"
      ]
     },
     "metadata": {},
     "output_type": "display_data"
    }
   ],
   "source": [
    "import ipywidgets as widgets\n",
    "from IPython.display import display, Code\n",
    "\n",
    "# Ścieżka do pliku tekstowego zawierającego kod odpowiedzi\n",
    "sciezka_do_pliku = 'exercises_solutions/ex1.txt'\n",
    "\n",
    "# Funkcja do wczytania kodu z pliku\n",
    "def wczytaj_kod_z_pliku(sciezka):\n",
    "    with open(sciezka_do_pliku, 'r') as plik:\n",
    "        return plik.read()\n",
    "\n",
    "# Tworzenie przycisku\n",
    "przycisk = widgets.Button(description=\"Pokaż odpowiedź\")\n",
    "\n",
    "# Output widget do wyświetlania kodu\n",
    "output = widgets.Output()\n",
    "\n",
    "# Funkcja, która wczytuje kod z pliku i wyświetla go po kliknięciu\n",
    "def pokaz_odpowiedz(b):\n",
    "    with output:\n",
    "        output.clear_output()  # Czyści poprzednie wyniki, jeśli są\n",
    "        kod_odpowiedzi = wczytaj_kod_z_pliku(sciezka_do_pliku)\n",
    "        display(Code(data=kod_odpowiedzi, language='python'))\n",
    "\n",
    "# Podłączenie przycisku do funkcji\n",
    "przycisk.on_click(pokaz_odpowiedz)\n",
    "\n",
    "# Wyświetlenie przycisku i output widget\n",
    "display(przycisk, output)\n"
   ]
  }
 ],
 "metadata": {
  "kernelspec": {
   "display_name": "Python 3",
   "language": "python",
   "name": "python3"
  },
  "language_info": {
   "codemirror_mode": {
    "name": "ipython",
    "version": 3
   },
   "file_extension": ".py",
   "mimetype": "text/x-python",
   "name": "python",
   "nbconvert_exporter": "python",
   "pygments_lexer": "ipython3",
   "version": "3.12.2"
  }
 },
 "nbformat": 4,
 "nbformat_minor": 2
}
